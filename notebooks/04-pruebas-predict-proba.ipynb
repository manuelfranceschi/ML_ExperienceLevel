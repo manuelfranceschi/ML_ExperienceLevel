{
 "cells": [
  {
   "cell_type": "code",
   "execution_count": 41,
   "metadata": {},
   "outputs": [],
   "source": [
    "import pandas as pd\n",
    "import numpy as np \n",
    "import pickle\n",
    "import matplotlib.pyplot as plt \n",
    "import seaborn as sns\n",
    "from sklearn.model_selection import train_test_split, GridSearchCV, RandomizedSearchCV\n",
    "from sklearn.metrics import accuracy_score, r2_score, precision_score, precision_recall_curve, confusion_matrix, recall_score, f1_score\n",
    "from sklearn.tree import DecisionTreeClassifier, plot_tree\n",
    "from sklearn.linear_model import LogisticRegression\n",
    "from sklearn.ensemble import RandomForestClassifier, GradientBoostingClassifier\n",
    "import xgboost as xgb\n",
    "from sklearn.neighbors import KNeighborsClassifier\n",
    "from sklearn.pipeline import Pipeline\n",
    "from sklearn.preprocessing import StandardScaler, MinMaxScaler\n",
    "from sklearn import svm\n",
    "from sklearn.cluster import KMeans\n",
    "from sklearn.decomposition import PCA\n",
    "from sklearn.neural_network import MLPClassifier"
   ]
  },
  {
   "cell_type": "code",
   "execution_count": null,
   "metadata": {},
   "outputs": [],
   "source": []
  },
  {
   "cell_type": "code",
   "execution_count": null,
   "metadata": {},
   "outputs": [],
   "source": [
    "from streamlit_navigation_bar import st_navbar"
   ]
  },
  {
   "cell_type": "code",
   "execution_count": 42,
   "metadata": {},
   "outputs": [],
   "source": [
    "df = pd.read_csv('../data/test/test.csv')\n",
    "model = pickle.load(open('../models/final_model_rf.pkl','rb'))\n",
    "X_test = df[['AgeGroup', 'HadHeartAttack', 'diabetesGroup','SmokerGroup', 'AlcoholDrinkers', 'HadArthritis','HadKidneyDisease', 'HadDepressiveDisorder']]\n",
    "y_test = df['HadStroke']\n",
    "\n",
    "y_pred = model.predict(X_test)\n",
    "y_pred_proba = model.predict_proba(X_test)[:,1]\n",
    "df_test = pd.DataFrame({\"Real\": y_test, \n",
    "                    \"Pred\": y_pred,\n",
    "                    \"positive_prob\": y_pred_proba\n",
    "                    })"
   ]
  },
  {
   "cell_type": "code",
   "execution_count": 58,
   "metadata": {},
   "outputs": [
    {
     "data": {
      "text/plain": [
       "'32.49%'"
      ]
     },
     "execution_count": 58,
     "metadata": {},
     "output_type": "execute_result"
    }
   ],
   "source": [
    "str(round(model.predict_proba(X_test)[0][1] * 100, 2)) + \"%\""
   ]
  },
  {
   "cell_type": "code",
   "execution_count": 90,
   "metadata": {},
   "outputs": [
    {
     "data": {
      "text/plain": [
       "np.float64(0.3038168149902348)"
      ]
     },
     "execution_count": 90,
     "metadata": {},
     "output_type": "execute_result"
    }
   ],
   "source": [
    "model.feature_importances_"
   ]
  },
  {
   "cell_type": "code",
   "execution_count": 94,
   "metadata": {},
   "outputs": [
    {
     "name": "stderr",
     "output_type": "stream",
     "text": [
      "/var/folders/d2/nwybmn31251d4d76_gyl2w740000gn/T/ipykernel_24592/2661343214.py:2: FutureWarning: Series.__getitem__ treating keys as positions is deprecated. In a future version, integer keys will always be treated as labels (consistent with DataFrame behavior). To access a value by position, use `ser.iloc[pos]`\n",
      "  feat_importances[0]\n"
     ]
    },
    {
     "data": {
      "text/plain": [
       "np.float64(0.3038168149902348)"
      ]
     },
     "execution_count": 94,
     "metadata": {},
     "output_type": "execute_result"
    }
   ],
   "source": [
    "feat_importances = pd.Series(model.feature_importances_, index=X_test.columns)\n",
    "feat_importances[0]"
   ]
  },
  {
   "cell_type": "code",
   "execution_count": 44,
   "metadata": {},
   "outputs": [],
   "source": [
    "mensajes = []\n",
    "for prob in y_pred_proba:\n",
    "    if prob <= 0.2:\n",
    "        mensaje = \"\"\"\n",
    "        Su evaluación indica un riesgo muy bajo de accidente cerebrovascular. \n",
    "        Le recomendamos mantener sus hábitos saludables y realizar chequeos médicos de rutina.\n",
    "        \"\"\"\n",
    "    elif prob > 0.2 and prob <= 0.4:\n",
    "        mensaje = \"\"\"\n",
    "        Tiene un riesgo bajo de accidente cerebrovascular. Sin embargo, es importante seguir cuidando su salud \n",
    "        y considerar un chequeo médico regular para mantenerse en óptimas condiciones.\n",
    "        \"\"\"\n",
    "    elif prob > 0.4 and prob <= 0.6:\n",
    "        mensaje = \"\"\"\n",
    "        Su evaluación muestra un riesgo moderado de accidente cerebrovascular. Le sugerimos concertar una cita médica \n",
    "        para una evaluación más detallada y recibir orientación preventiva.\n",
    "        \"\"\"\n",
    "    elif prob > 0.6 and prob <= 0.8:\n",
    "        mensaje = \"\"\"\n",
    "        Se ha detectado un riesgo alto de accidente cerebrovascular. Es importante que programe una consulta médica \n",
    "        lo antes posible para analizar su situación y planificar medidas preventivas.\n",
    "        \"\"\"\n",
    "    else:\n",
    "        mensaje = \"\"\"\n",
    "        Tiene un riesgo muy alto de accidente cerebrovascular según nuestra evaluación. Por favor, busque atención médica \n",
    "        de inmediato para recibir un diagnóstico y tratamiento adecuado.\n",
    "        \"\"\"\n",
    "    mensajes.append(mensaje)\n",
    "    df_test['mensaje'] = mensajes"
   ]
  },
  {
   "cell_type": "code",
   "execution_count": 45,
   "metadata": {},
   "outputs": [],
   "source": [
    "model"
   ]
  }
 ],
 "metadata": {
  "kernelspec": {
   "display_name": "Python 3",
   "language": "python",
   "name": "python3"
  },
  "language_info": {
   "codemirror_mode": {
    "name": "ipython",
    "version": 3
   },
   "file_extension": ".py",
   "mimetype": "text/x-python",
   "name": "python",
   "nbconvert_exporter": "python",
   "pygments_lexer": "ipython3",
   "version": "3.12.6"
  },
  "orig_nbformat": 4
 },
 "nbformat": 4,
 "nbformat_minor": 2
}
