{
 "cells": [
  {
   "cell_type": "code",
   "execution_count": 1,
   "metadata": {},
   "outputs": [],
   "source": [
    "import pandas as pd\n",
    "import numpy as np "
   ]
  },
  {
   "cell_type": "code",
   "execution_count": 3,
   "metadata": {},
   "outputs": [],
   "source": [
    "df = pd.read_csv('../data/test/test.csv')"
   ]
  },
  {
   "cell_type": "code",
   "execution_count": 9,
   "metadata": {},
   "outputs": [
    {
     "data": {
      "text/plain": [
       "array(['Age 50 to 54', 'Age 60 to 64', 'Age 65 to 69', 'Age 30 to 34',\n",
       "       'Age 80 or older', 'Age 45 to 49', 'Age 35 to 39', 'Age 55 to 59',\n",
       "       'Age 75 to 79', 'Age 18 to 24', 'Age 70 to 74', 'Age 25 to 29',\n",
       "       'Age 40 to 44'], dtype=object)"
      ]
     },
     "execution_count": 9,
     "metadata": {},
     "output_type": "execute_result"
    }
   ],
   "source": [
    "df['AgeCategory'].unique()"
   ]
  },
  {
   "cell_type": "code",
   "execution_count": 12,
   "metadata": {},
   "outputs": [
    {
     "name": "stdout",
     "output_type": "stream",
     "text": [
      "0 Age 50 to 54\n",
      "1 Age 60 to 64\n",
      "2 Age 65 to 69\n",
      "3 Age 30 to 34\n",
      "4 Age 80 or older\n",
      "5 Age 45 to 49\n",
      "6 Age 35 to 39\n",
      "7 Age 55 to 59\n",
      "8 Age 75 to 79\n",
      "9 Age 18 to 24\n",
      "10 Age 70 to 74\n",
      "11 Age 25 to 29\n",
      "12 Age 40 to 44\n"
     ]
    }
   ],
   "source": [
    "for i, value in enumerate(df['AgeCategory'].unique()):\n",
    "    print(i, value)"
   ]
  },
  {
   "cell_type": "code",
   "execution_count": 13,
   "metadata": {},
   "outputs": [],
   "source": []
  },
  {
   "cell_type": "code",
   "execution_count": 16,
   "metadata": {},
   "outputs": [],
   "source": [
    "order_ages = [9,11,3,6,12,5,0,7,1,2,10,8,4]\n",
    "for i in order_ages:\n",
    "    <"
   ]
  },
  {
   "cell_type": "code",
   "execution_count": 17,
   "metadata": {},
   "outputs": [
    {
     "data": {
      "text/plain": [
       "array(['Age 50 to 54', 'Age 60 to 64', 'Age 65 to 69', 'Age 30 to 34',\n",
       "       'Age 80 or older', 'Age 45 to 49', 'Age 35 to 39', 'Age 55 to 59',\n",
       "       'Age 75 to 79', 'Age 18 to 24', 'Age 70 to 74', 'Age 25 to 29',\n",
       "       'Age 40 to 44'], dtype=object)"
      ]
     },
     "execution_count": 17,
     "metadata": {},
     "output_type": "execute_result"
    }
   ],
   "source": [
    "df['AgeCategory'].unique()"
   ]
  },
  {
   "cell_type": "code",
   "execution_count": null,
   "metadata": {},
   "outputs": [],
   "source": []
  }
 ],
 "metadata": {
  "kernelspec": {
   "display_name": "Python 3",
   "language": "python",
   "name": "python3"
  },
  "language_info": {
   "codemirror_mode": {
    "name": "ipython",
    "version": 3
   },
   "file_extension": ".py",
   "mimetype": "text/x-python",
   "name": "python",
   "nbconvert_exporter": "python",
   "pygments_lexer": "ipython3",
   "version": "3.12.6"
  },
  "orig_nbformat": 4
 },
 "nbformat": 4,
 "nbformat_minor": 2
}
