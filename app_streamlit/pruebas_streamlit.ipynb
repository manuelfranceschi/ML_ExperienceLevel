{
 "cells": [
  {
   "cell_type": "code",
   "execution_count": 1,
   "metadata": {},
   "outputs": [],
   "source": [
    "import pandas as pd\n",
    "import numpy as np "
   ]
  },
  {
   "cell_type": "code",
   "execution_count": 3,
   "metadata": {},
   "outputs": [],
   "source": [
    "df = pd.read_csv('../data/test/test.csv')"
   ]
  },
  {
   "cell_type": "code",
   "execution_count": 9,
   "metadata": {},
   "outputs": [
    {
     "data": {
      "text/plain": [
       "array(['Age 50 to 54', 'Age 60 to 64', 'Age 65 to 69', 'Age 30 to 34',\n",
       "       'Age 80 or older', 'Age 45 to 49', 'Age 35 to 39', 'Age 55 to 59',\n",
       "       'Age 75 to 79', 'Age 18 to 24', 'Age 70 to 74', 'Age 25 to 29',\n",
       "       'Age 40 to 44'], dtype=object)"
      ]
     },
     "execution_count": 9,
     "metadata": {},
     "output_type": "execute_result"
    }
   ],
   "source": [
    "df['AgeCategory'].unique()"
   ]
  },
  {
   "cell_type": "code",
   "execution_count": 12,
   "metadata": {},
   "outputs": [
    {
     "name": "stdout",
     "output_type": "stream",
     "text": [
      "0 Age 50 to 54\n",
      "1 Age 60 to 64\n",
      "2 Age 65 to 69\n",
      "3 Age 30 to 34\n",
      "4 Age 80 or older\n",
      "5 Age 45 to 49\n",
      "6 Age 35 to 39\n",
      "7 Age 55 to 59\n",
      "8 Age 75 to 79\n",
      "9 Age 18 to 24\n",
      "10 Age 70 to 74\n",
      "11 Age 25 to 29\n",
      "12 Age 40 to 44\n"
     ]
    }
   ],
   "source": [
    "for i, value in enumerate(df['AgeCategory'].unique()):\n",
    "    print(i, value)"
   ]
  },
  {
   "attachments": {},
   "cell_type": "markdown",
   "metadata": {},
   "source": [
    "## Caso de uso\n",
    "Personas que tengan dudas sobre su estado actual y que crean que puedan ser propensas a tener un accidente cerebrovascular, y mediante esta rápida evaluación, haciendo uso de un modelo de machine learning de clasificación binaria, pueda saber si estan corriendo riesgo de sufrir este tipo de accidentes y trabajar con su equipo de atención médica y evaluar estos riesgos, que la mayoría son prevenibles o tratables.\n",
    "\n",
    "## Parametros\n",
    "Este modelo toma en cuenta las siguientes carácteristicas del paciente:\n",
    "* Edad\n",
    "* Si presenta o ha presentado alguna vez una cardiopatía\n",
    "* Si sufre de diabetes, prediabético o no.\n",
    "* Si es fumador o no.\n",
    "* Si bebe alcohol.\n",
    "* Si sufre de artritis.\n",
    "* Si sufre de nefropatía.\n",
    "* Si sufre o ha sufrido de depresión\n",
    "*** Muchas condiciones médicas comunes pueden aumentar la probabilidad de tener un accidente cerebrovascular ***"
   ]
  },
  {
   "cell_type": "code",
   "execution_count": 1,
   "metadata": {},
   "outputs": [
    {
     "ename": "NameError",
     "evalue": "name 'df' is not defined",
     "output_type": "error",
     "traceback": [
      "\u001b[0;31m---------------------------------------------------------------------------\u001b[0m",
      "\u001b[0;31mNameError\u001b[0m                                 Traceback (most recent call last)",
      "Cell \u001b[0;32mIn[1], line 1\u001b[0m\n\u001b[0;32m----> 1\u001b[0m df\n",
      "\u001b[0;31mNameError\u001b[0m: name 'df' is not defined"
     ]
    }
   ],
   "source": []
  },
  {
   "cell_type": "code",
   "execution_count": 16,
   "metadata": {},
   "outputs": [],
   "source": [
    "order_ages = [9,11,3,6,12,5,0,7,1,2,10,8,4]\n",
    "for i in order_ages:\n",
    "    <"
   ]
  },
  {
   "cell_type": "code",
   "execution_count": 17,
   "metadata": {},
   "outputs": [
    {
     "data": {
      "text/plain": [
       "array(['Age 50 to 54', 'Age 60 to 64', 'Age 65 to 69', 'Age 30 to 34',\n",
       "       'Age 80 or older', 'Age 45 to 49', 'Age 35 to 39', 'Age 55 to 59',\n",
       "       'Age 75 to 79', 'Age 18 to 24', 'Age 70 to 74', 'Age 25 to 29',\n",
       "       'Age 40 to 44'], dtype=object)"
      ]
     },
     "execution_count": 17,
     "metadata": {},
     "output_type": "execute_result"
    }
   ],
   "source": [
    "df['AgeCategory'].unique()"
   ]
  },
  {
   "cell_type": "code",
   "execution_count": null,
   "metadata": {},
   "outputs": [],
   "source": []
  }
 ],
 "metadata": {
  "kernelspec": {
   "display_name": "Python 3",
   "language": "python",
   "name": "python3"
  },
  "language_info": {
   "codemirror_mode": {
    "name": "ipython",
    "version": 3
   },
   "file_extension": ".py",
   "mimetype": "text/x-python",
   "name": "python",
   "nbconvert_exporter": "python",
   "pygments_lexer": "ipython3",
   "version": "3.12.6"
  },
  "orig_nbformat": 4
 },
 "nbformat": 4,
 "nbformat_minor": 2
}
